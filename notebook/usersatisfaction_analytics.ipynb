{
 "cells": [
  {
   "cell_type": "markdown",
   "metadata": {},
   "source": [
    "# User Satsfaction Score Prediction"
   ]
  },
  {
   "cell_type": "code",
   "execution_count": 5,
   "metadata": {},
   "outputs": [],
   "source": [
    "import pandas as pd\n",
    "import os\n",
    "import sys\n",
    "# Add the 'scripts' directory to the Python path for module imports\n",
    "sys.path.append(os.path.abspath(os.path.join('..', 'scripts')))"
   ]
  },
  {
   "cell_type": "code",
   "execution_count": 6,
   "metadata": {},
   "outputs": [],
   "source": [
    "# Load the xdr_cleaned dataset\n",
    "data = pd.read_csv('../data/xdr_cleaned.csv')"
   ]
  },
  {
   "cell_type": "code",
   "execution_count": 7,
   "metadata": {},
   "outputs": [
    {
     "name": "stdout",
     "output_type": "stream",
     "text": [
      "Connection to database successful!\n"
     ]
    }
   ],
   "source": [
    "# Import modules\n",
    "from user_engagement_analysis import UserEngagementAnalysis\n",
    "from experience_analytics import ExperienceAnalytics\n",
    "from satisfaction_analytics import UserSatisfactionAnalytics"
   ]
  },
  {
   "cell_type": "code",
   "execution_count": 9,
   "metadata": {},
   "outputs": [],
   "source": [
    "# Create instances of engagement and user experience classes\n",
    "engagement_analysis = UserEngagementAnalysis(data)\n",
    "experience_analysis = ExperienceAnalytics(data)\n",
    "satisfaction_analysis = UserSatisfactionAnalytics()"
   ]
  },
  {
   "cell_type": "code",
   "execution_count": 10,
   "metadata": {},
   "outputs": [],
   "source": [
    "# Normalize and cluster\n",
    "# Aggregate engagement metrics\n",
    "engagement_analysis.aggregate_metrics()\n",
    "engagement_analysis.metrics.head()\n",
    "engagement_analysis.normalize_and_cluster(n_clusters=3)"
   ]
  },
  {
   "cell_type": "code",
   "execution_count": 13,
   "metadata": {},
   "outputs": [],
   "source": [
    "# Computer Engagement Score\n",
    "engagement_features = [\n",
    "    'total_session_duration',\n",
    "    'total_download_traffic',\n",
    "    'total_upload_traffic', \n",
    "    'sessions_frequency']\n",
    "\n",
    "# Identify least engaged cluster\n",
    "least_engaged_cluster = engagement_analysis.cluster_centers[engagement_features].sum(axis=1).idxmin()\n",
    "\n",
    "# Compute engagement scores\n",
    "engagement_scores = satisfaction_analysis.compute_score(\n",
    "    engagement_analysis.metrics, \n",
    "    engagement_analysis.cluster_centers, \n",
    "    engagement_features, 'Engagement_Score',\n",
    "    least_engaged_cluster)"
   ]
  },
  {
   "cell_type": "code",
   "execution_count": 14,
   "metadata": {},
   "outputs": [
    {
     "name": "stdout",
     "output_type": "stream",
     "text": [
      "Number of duplicate entries in 'MSISDN/Number': 0\n"
     ]
    }
   ],
   "source": [
    "#Check for duplicates in the 'MSISDN/Number' column and count them\n",
    "duplicate_count = engagement_analysis.metrics.duplicated('MSISDN/Number').sum()\n",
    "print(f\"Number of duplicate entries in 'MSISDN/Number': {duplicate_count}\")"
   ]
  },
  {
   "cell_type": "code",
   "execution_count": 15,
   "metadata": {},
   "outputs": [
    {
     "data": {
      "text/html": [
       "<div>\n",
       "<style scoped>\n",
       "    .dataframe tbody tr th:only-of-type {\n",
       "        vertical-align: middle;\n",
       "    }\n",
       "\n",
       "    .dataframe tbody tr th {\n",
       "        vertical-align: top;\n",
       "    }\n",
       "\n",
       "    .dataframe thead th {\n",
       "        text-align: right;\n",
       "    }\n",
       "</style>\n",
       "<table border=\"1\" class=\"dataframe\">\n",
       "  <thead>\n",
       "    <tr style=\"text-align: right;\">\n",
       "      <th></th>\n",
       "      <th>MSISDN/Number</th>\n",
       "      <th>Engagement_Score</th>\n",
       "    </tr>\n",
       "  </thead>\n",
       "  <tbody>\n",
       "    <tr>\n",
       "      <th>0</th>\n",
       "      <td>3.361370e+10</td>\n",
       "      <td>3.376757e+12</td>\n",
       "    </tr>\n",
       "    <tr>\n",
       "      <th>1</th>\n",
       "      <td>3.361370e+10</td>\n",
       "      <td>1.851072e+08</td>\n",
       "    </tr>\n",
       "    <tr>\n",
       "      <th>2</th>\n",
       "      <td>3.361370e+10</td>\n",
       "      <td>9.416116e+08</td>\n",
       "    </tr>\n",
       "    <tr>\n",
       "      <th>3</th>\n",
       "      <td>3.361370e+10</td>\n",
       "      <td>4.739266e+08</td>\n",
       "    </tr>\n",
       "    <tr>\n",
       "      <th>4</th>\n",
       "      <td>3.361370e+10</td>\n",
       "      <td>6.141363e+07</td>\n",
       "    </tr>\n",
       "    <tr>\n",
       "      <th>5</th>\n",
       "      <td>3.361370e+10</td>\n",
       "      <td>5.971572e+08</td>\n",
       "    </tr>\n",
       "    <tr>\n",
       "      <th>6</th>\n",
       "      <td>3.361371e+10</td>\n",
       "      <td>1.546607e+08</td>\n",
       "    </tr>\n",
       "    <tr>\n",
       "      <th>7</th>\n",
       "      <td>3.361371e+10</td>\n",
       "      <td>2.179564e+07</td>\n",
       "    </tr>\n",
       "    <tr>\n",
       "      <th>8</th>\n",
       "      <td>3.361371e+10</td>\n",
       "      <td>3.442113e+08</td>\n",
       "    </tr>\n",
       "    <tr>\n",
       "      <th>9</th>\n",
       "      <td>3.361371e+10</td>\n",
       "      <td>1.355662e+08</td>\n",
       "    </tr>\n",
       "    <tr>\n",
       "      <th>10</th>\n",
       "      <td>3.361372e+10</td>\n",
       "      <td>4.745848e+08</td>\n",
       "    </tr>\n",
       "    <tr>\n",
       "      <th>11</th>\n",
       "      <td>3.361372e+10</td>\n",
       "      <td>9.313288e+07</td>\n",
       "    </tr>\n",
       "    <tr>\n",
       "      <th>12</th>\n",
       "      <td>3.361372e+10</td>\n",
       "      <td>3.743906e+07</td>\n",
       "    </tr>\n",
       "    <tr>\n",
       "      <th>13</th>\n",
       "      <td>3.361372e+10</td>\n",
       "      <td>6.684264e+07</td>\n",
       "    </tr>\n",
       "    <tr>\n",
       "      <th>14</th>\n",
       "      <td>3.361372e+10</td>\n",
       "      <td>1.065402e+09</td>\n",
       "    </tr>\n",
       "    <tr>\n",
       "      <th>15</th>\n",
       "      <td>3.361372e+10</td>\n",
       "      <td>4.456148e+08</td>\n",
       "    </tr>\n",
       "    <tr>\n",
       "      <th>16</th>\n",
       "      <td>3.361372e+10</td>\n",
       "      <td>3.202691e+08</td>\n",
       "    </tr>\n",
       "    <tr>\n",
       "      <th>17</th>\n",
       "      <td>3.361372e+10</td>\n",
       "      <td>8.179126e+07</td>\n",
       "    </tr>\n",
       "    <tr>\n",
       "      <th>18</th>\n",
       "      <td>3.361373e+10</td>\n",
       "      <td>5.810774e+08</td>\n",
       "    </tr>\n",
       "    <tr>\n",
       "      <th>19</th>\n",
       "      <td>3.361373e+10</td>\n",
       "      <td>2.718688e+08</td>\n",
       "    </tr>\n",
       "  </tbody>\n",
       "</table>\n",
       "</div>"
      ],
      "text/plain": [
       "    MSISDN/Number  Engagement_Score\n",
       "0    3.361370e+10      3.376757e+12\n",
       "1    3.361370e+10      1.851072e+08\n",
       "2    3.361370e+10      9.416116e+08\n",
       "3    3.361370e+10      4.739266e+08\n",
       "4    3.361370e+10      6.141363e+07\n",
       "5    3.361370e+10      5.971572e+08\n",
       "6    3.361371e+10      1.546607e+08\n",
       "7    3.361371e+10      2.179564e+07\n",
       "8    3.361371e+10      3.442113e+08\n",
       "9    3.361371e+10      1.355662e+08\n",
       "10   3.361372e+10      4.745848e+08\n",
       "11   3.361372e+10      9.313288e+07\n",
       "12   3.361372e+10      3.743906e+07\n",
       "13   3.361372e+10      6.684264e+07\n",
       "14   3.361372e+10      1.065402e+09\n",
       "15   3.361372e+10      4.456148e+08\n",
       "16   3.361372e+10      3.202691e+08\n",
       "17   3.361372e+10      8.179126e+07\n",
       "18   3.361373e+10      5.810774e+08\n",
       "19   3.361373e+10      2.718688e+08"
      ]
     },
     "execution_count": 15,
     "metadata": {},
     "output_type": "execute_result"
    }
   ],
   "source": [
    "engagement_scores.head(20)"
   ]
  },
  {
   "cell_type": "code",
   "execution_count": 16,
   "metadata": {},
   "outputs": [],
   "source": [
    "# User experience clusters\n",
    "# Define features\n",
    "experience_features = ['TCP Retransmission', 'RTT', 'Throughput']\n",
    "\n",
    "# aggregate and cluster\n",
    "experience_df, cluster_centers = experience_analysis.k_means_clustering(experience_features)\n",
    "# rename cluster column\n",
    "experience_df.rename(columns={'Cluster':'cluster'}, inplace=True)\n",
    "cluster_centers.rename(columns={'Cluster':'cluster'}, inplace=True)\n",
    "# Identify worst experience cluster\n",
    "worst_cluster = cluster_centers[experience_features].sum(axis=1).idxmin()"
   ]
  },
  {
   "cell_type": "code",
   "execution_count": null,
   "metadata": {},
   "outputs": [],
   "source": [
    "# Computer User experience scores\n",
    "experience_scores = satisfaction_analysis.compute_score(\n",
    "    experience_df, \n",
    "    cluster_centers, \n",
    "    experience_features, 'Experience_Score',\n",
    "    worst_cluster)"
   ]
  }
 ],
 "metadata": {
  "kernelspec": {
   "display_name": ".venv",
   "language": "python",
   "name": "python3"
  },
  "language_info": {
   "codemirror_mode": {
    "name": "ipython",
    "version": 3
   },
   "file_extension": ".py",
   "mimetype": "text/x-python",
   "name": "python",
   "nbconvert_exporter": "python",
   "pygments_lexer": "ipython3",
   "version": "3.12.3"
  }
 },
 "nbformat": 4,
 "nbformat_minor": 2
}
