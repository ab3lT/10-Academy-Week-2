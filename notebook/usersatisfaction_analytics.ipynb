{
 "cells": [
  {
   "cell_type": "markdown",
   "metadata": {},
   "source": [
    "# User Satsfaction Score Prediction"
   ]
  },
  {
   "cell_type": "code",
   "execution_count": 5,
   "metadata": {},
   "outputs": [],
   "source": [
    "import pandas as pd\n",
    "import os\n",
    "import sys\n",
    "# Add the 'scripts' directory to the Python path for module imports\n",
    "sys.path.append(os.path.abspath(os.path.join('..', 'scripts')))"
   ]
  },
  {
   "cell_type": "code",
   "execution_count": 6,
   "metadata": {},
   "outputs": [],
   "source": [
    "# Load the xdr_cleaned dataset\n",
    "data = pd.read_csv('../data/xdr_cleaned.csv')"
   ]
  },
  {
   "cell_type": "code",
   "execution_count": 7,
   "metadata": {},
   "outputs": [
    {
     "name": "stdout",
     "output_type": "stream",
     "text": [
      "Connection to database successful!\n"
     ]
    }
   ],
   "source": [
    "# Import modules\n",
    "from user_engagement_analysis import UserEngagementAnalysis\n",
    "from experience_analytics import ExperienceAnalytics\n",
    "from satisfaction_analytics import UserSatisfactionAnalytics"
   ]
  },
  {
   "cell_type": "code",
   "execution_count": 9,
   "metadata": {},
   "outputs": [],
   "source": [
    "# Create instances of engagement and user experience classes\n",
    "engagement_analysis = UserEngagementAnalysis(data)\n",
    "experience_analysis = ExperienceAnalytics(data)\n",
    "satisfaction_analysis = UserSatisfactionAnalytics()"
   ]
  },
  {
   "cell_type": "code",
   "execution_count": 10,
   "metadata": {},
   "outputs": [],
   "source": [
    "# Normalize and cluster\n",
    "# Aggregate engagement metrics\n",
    "engagement_analysis.aggregate_metrics()\n",
    "engagement_analysis.metrics.head()\n",
    "engagement_analysis.normalize_and_cluster(n_clusters=3)"
   ]
  }
 ],
 "metadata": {
  "kernelspec": {
   "display_name": ".venv",
   "language": "python",
   "name": "python3"
  },
  "language_info": {
   "codemirror_mode": {
    "name": "ipython",
    "version": 3
   },
   "file_extension": ".py",
   "mimetype": "text/x-python",
   "name": "python",
   "nbconvert_exporter": "python",
   "pygments_lexer": "ipython3",
   "version": "3.12.3"
  }
 },
 "nbformat": 4,
 "nbformat_minor": 2
}
