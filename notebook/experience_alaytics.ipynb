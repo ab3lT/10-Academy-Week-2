{
 "cells": [
  {
   "cell_type": "markdown",
   "metadata": {},
   "source": [
    "# User Experience Analytics"
   ]
  },
  {
   "cell_type": "code",
   "execution_count": 5,
   "metadata": {},
   "outputs": [],
   "source": [
    "import os\n",
    "import sys\n",
    "# Add the 'scripts' directory to the Python path for module imports\n",
    "sys.path.append(os.path.abspath(os.path.join('..', 'scripts')))"
   ]
  },
  {
   "cell_type": "code",
   "execution_count": 6,
   "metadata": {},
   "outputs": [],
   "source": [
    "# Import necessary libraries\n",
    "import matplotlib.pyplot as plt\n",
    "import seaborn as sn\n",
    "import pandas as pd\n",
    "import numpy as np"
   ]
  },
  {
   "cell_type": "code",
   "execution_count": 7,
   "metadata": {},
   "outputs": [],
   "source": [
    "# Load the cleaned xdr data into a DataFrame\n",
    "data = pd.read_csv('../data/xdr_cleaned.csv', index_col=0)"
   ]
  },
  {
   "cell_type": "markdown",
   "metadata": {},
   "source": [
    "Task 3. 1 - Aggregate, per customer, the following information (treat missing & outliers by replacing with the mean or the mode of the corresponding variable):\n",
    "\n",
    "Average TCP retransmission\n",
    "Average RTT\n",
    "Handset type\n",
    "Average throughput"
   ]
  },
  {
   "cell_type": "code",
   "execution_count": 8,
   "metadata": {},
   "outputs": [],
   "source": [
    "# Import the module class from scripts module\n",
    "from experience_analytics import ExperienceAnalytics\n",
    "\n",
    "# Create instance of the class object\n",
    "analytics = ExperienceAnalytics(data)"
   ]
  },
  {
   "cell_type": "code",
   "execution_count": 9,
   "metadata": {},
   "outputs": [
    {
     "data": {
      "text/html": [
       "<div>\n",
       "<style scoped>\n",
       "    .dataframe tbody tr th:only-of-type {\n",
       "        vertical-align: middle;\n",
       "    }\n",
       "\n",
       "    .dataframe tbody tr th {\n",
       "        vertical-align: top;\n",
       "    }\n",
       "\n",
       "    .dataframe thead th {\n",
       "        text-align: right;\n",
       "    }\n",
       "</style>\n",
       "<table border=\"1\" class=\"dataframe\">\n",
       "  <thead>\n",
       "    <tr style=\"text-align: right;\">\n",
       "      <th></th>\n",
       "      <th>MSISDN/Number</th>\n",
       "      <th>Handset Type</th>\n",
       "      <th>TCP Retransmission</th>\n",
       "      <th>RTT</th>\n",
       "      <th>Throughput</th>\n",
       "    </tr>\n",
       "  </thead>\n",
       "  <tbody>\n",
       "    <tr>\n",
       "      <th>0</th>\n",
       "      <td>3.361370e+10</td>\n",
       "      <td>Samsung Galaxy A5 Sm-A520F</td>\n",
       "      <td>1.555536e+07</td>\n",
       "      <td>38.722068</td>\n",
       "      <td>4274.587591</td>\n",
       "    </tr>\n",
       "    <tr>\n",
       "      <th>1</th>\n",
       "      <td>3.361370e+10</td>\n",
       "      <td>Apple iPhone 8 (A1905)</td>\n",
       "      <td>1.325977e+07</td>\n",
       "      <td>39.000000</td>\n",
       "      <td>13027.750000</td>\n",
       "    </tr>\n",
       "    <tr>\n",
       "      <th>2</th>\n",
       "      <td>3.361370e+10</td>\n",
       "      <td>undefined</td>\n",
       "      <td>2.180247e+07</td>\n",
       "      <td>29.250000</td>\n",
       "      <td>85.000000</td>\n",
       "    </tr>\n",
       "    <tr>\n",
       "      <th>3</th>\n",
       "      <td>3.361370e+10</td>\n",
       "      <td>Apple iPhone Se (A1723)</td>\n",
       "      <td>2.180247e+07</td>\n",
       "      <td>12.000000</td>\n",
       "      <td>40.000000</td>\n",
       "    </tr>\n",
       "    <tr>\n",
       "      <th>4</th>\n",
       "      <td>3.361370e+10</td>\n",
       "      <td>Apple iPhone 7 (A1778)</td>\n",
       "      <td>2.180247e+07</td>\n",
       "      <td>19.500000</td>\n",
       "      <td>48.500000</td>\n",
       "    </tr>\n",
       "  </tbody>\n",
       "</table>\n",
       "</div>"
      ],
      "text/plain": [
       "   MSISDN/Number                Handset Type  TCP Retransmission        RTT  \\\n",
       "0   3.361370e+10  Samsung Galaxy A5 Sm-A520F        1.555536e+07  38.722068   \n",
       "1   3.361370e+10      Apple iPhone 8 (A1905)        1.325977e+07  39.000000   \n",
       "2   3.361370e+10                   undefined        2.180247e+07  29.250000   \n",
       "3   3.361370e+10     Apple iPhone Se (A1723)        2.180247e+07  12.000000   \n",
       "4   3.361370e+10      Apple iPhone 7 (A1778)        2.180247e+07  19.500000   \n",
       "\n",
       "     Throughput  \n",
       "0   4274.587591  \n",
       "1  13027.750000  \n",
       "2     85.000000  \n",
       "3     40.000000  \n",
       "4     48.500000  "
      ]
     },
     "execution_count": 9,
     "metadata": {},
     "output_type": "execute_result"
    }
   ],
   "source": [
    "# Aggregate user experience\n",
    "user_agg = analytics.aggregate_user_experience()\n",
    "# Display result\n",
    "user_agg.head()"
   ]
  },
  {
   "cell_type": "markdown",
   "metadata": {},
   "source": [
    "Task 3.2 - Compute & list 10 of the top, bottom, and most frequent:\n",
    "\n",
    "TCP values in the dataset.\n",
    "RTT values in the dataset.\n",
    "Throughput values in the dataset."
   ]
  },
  {
   "cell_type": "code",
   "execution_count": 10,
   "metadata": {},
   "outputs": [
    {
     "name": "stdout",
     "output_type": "stream",
     "text": [
      "Top 10 TCP Values:\n",
      "2     2.180247e+07\n",
      "3     2.180247e+07\n",
      "4     2.180247e+07\n",
      "7     2.180247e+07\n",
      "8     2.180247e+07\n",
      "11    2.180247e+07\n",
      "12    2.180247e+07\n",
      "15    2.180247e+07\n",
      "17    2.180247e+07\n",
      "19    2.180247e+07\n",
      "Name: TCP Retransmission, dtype: float64\n",
      "Bottom 10 of TCP Values:\n",
      " 23      6195.75\n",
      "26      6195.75\n",
      "409     6195.75\n",
      "450     6195.75\n",
      "485     6195.75\n",
      "684     6195.75\n",
      "758     6195.75\n",
      "1272    6195.75\n",
      "1314    6195.75\n",
      "1388    6195.75\n",
      "Name: TCP Retransmission, dtype: float64\n",
      "Most frequent of TCP Values:\n",
      " 21802465.930443797\n"
     ]
    }
   ],
   "source": [
    "# TCP Retransmission\n",
    "top_10, bottom_10, most_frequent = analytics.get_top_bottom_most_frequent(column='TCP Retransmission')\n",
    "print(f'Top 10 TCP Values:\\n{top_10}')\n",
    "print(f'Bottom 10 of TCP Values:\\n {bottom_10}')\n",
    "print(f'Most frequent of TCP Values:\\n {most_frequent}')"
   ]
  },
  {
   "cell_type": "markdown",
   "metadata": {},
   "source": [
    "Task 3.3 - Compute & report:\n",
    "\n",
    "The distribution of the average throughput per handset type and provide interpretation for your findings.\n",
    "\n",
    "The average TCP retransmission view per handset type and provide interpretation for your findings."
   ]
  },
  {
   "cell_type": "code",
   "execution_count": 11,
   "metadata": {},
   "outputs": [
    {
     "data": {
      "text/html": [
       "<div>\n",
       "<style scoped>\n",
       "    .dataframe tbody tr th:only-of-type {\n",
       "        vertical-align: middle;\n",
       "    }\n",
       "\n",
       "    .dataframe tbody tr th {\n",
       "        vertical-align: top;\n",
       "    }\n",
       "\n",
       "    .dataframe thead th {\n",
       "        text-align: right;\n",
       "    }\n",
       "</style>\n",
       "<table border=\"1\" class=\"dataframe\">\n",
       "  <thead>\n",
       "    <tr style=\"text-align: right;\">\n",
       "      <th></th>\n",
       "      <th>Handset Type</th>\n",
       "      <th>Avg_Throughput</th>\n",
       "    </tr>\n",
       "  </thead>\n",
       "  <tbody>\n",
       "    <tr>\n",
       "      <th>0</th>\n",
       "      <td>A-Link Telecom I. Cubot A5</td>\n",
       "      <td>11755.000000</td>\n",
       "    </tr>\n",
       "    <tr>\n",
       "      <th>1</th>\n",
       "      <td>A-Link Telecom I. Cubot Note Plus</td>\n",
       "      <td>3349.500000</td>\n",
       "    </tr>\n",
       "    <tr>\n",
       "      <th>2</th>\n",
       "      <td>A-Link Telecom I. Cubot Note S</td>\n",
       "      <td>4468.500000</td>\n",
       "    </tr>\n",
       "    <tr>\n",
       "      <th>3</th>\n",
       "      <td>A-Link Telecom I. Cubot Nova</td>\n",
       "      <td>28108.500000</td>\n",
       "    </tr>\n",
       "    <tr>\n",
       "      <th>4</th>\n",
       "      <td>A-Link Telecom I. Cubot Power</td>\n",
       "      <td>31470.750000</td>\n",
       "    </tr>\n",
       "    <tr>\n",
       "      <th>...</th>\n",
       "      <td>...</td>\n",
       "      <td>...</td>\n",
       "    </tr>\n",
       "    <tr>\n",
       "      <th>1385</th>\n",
       "      <td>Zte Zte Blade C2 Smartphone Android By Sfr Sta...</td>\n",
       "      <td>35.000000</td>\n",
       "    </tr>\n",
       "    <tr>\n",
       "      <th>1386</th>\n",
       "      <td>Zyxel Communicat. Lte7460</td>\n",
       "      <td>25161.000000</td>\n",
       "    </tr>\n",
       "    <tr>\n",
       "      <th>1387</th>\n",
       "      <td>Zyxel Communicat. Sbg3600</td>\n",
       "      <td>36590.250000</td>\n",
       "    </tr>\n",
       "    <tr>\n",
       "      <th>1388</th>\n",
       "      <td>Zyxel Communicat. Zyxel Wah7706</td>\n",
       "      <td>1086.500000</td>\n",
       "    </tr>\n",
       "    <tr>\n",
       "      <th>1389</th>\n",
       "      <td>undefined</td>\n",
       "      <td>4343.664052</td>\n",
       "    </tr>\n",
       "  </tbody>\n",
       "</table>\n",
       "<p>1390 rows × 2 columns</p>\n",
       "</div>"
      ],
      "text/plain": [
       "                                           Handset Type  Avg_Throughput\n",
       "0                            A-Link Telecom I. Cubot A5    11755.000000\n",
       "1                     A-Link Telecom I. Cubot Note Plus     3349.500000\n",
       "2                        A-Link Telecom I. Cubot Note S     4468.500000\n",
       "3                          A-Link Telecom I. Cubot Nova    28108.500000\n",
       "4                         A-Link Telecom I. Cubot Power    31470.750000\n",
       "...                                                 ...             ...\n",
       "1385  Zte Zte Blade C2 Smartphone Android By Sfr Sta...       35.000000\n",
       "1386                          Zyxel Communicat. Lte7460    25161.000000\n",
       "1387                          Zyxel Communicat. Sbg3600    36590.250000\n",
       "1388                    Zyxel Communicat. Zyxel Wah7706     1086.500000\n",
       "1389                                          undefined     4343.664052\n",
       "\n",
       "[1390 rows x 2 columns]"
      ]
     },
     "execution_count": 11,
     "metadata": {},
     "output_type": "execute_result"
    }
   ],
   "source": [
    "# Average throughput per handset type\n",
    "analytics.avg_throughput_per_handset()"
   ]
  },
  {
   "cell_type": "code",
   "execution_count": 12,
   "metadata": {},
   "outputs": [
    {
     "data": {
      "image/png": "[encoded data removed]",
      "text/plain": [
       "<Figure size 640x480 with 1 Axes>"
      ]
     },
     "metadata": {},
     "output_type": "display_data"
    }
   ],
   "source": [
    "# Average througput per top 10 handset\n",
    "analytics.plot_distribution(metric='Throughput')"
   ]
  },
  {
   "cell_type": "code",
   "execution_count": 13,
   "metadata": {},
   "outputs": [
    {
     "data": {
      "text/html": [
       "<div>\n",
       "<style scoped>\n",
       "    .dataframe tbody tr th:only-of-type {\n",
       "        vertical-align: middle;\n",
       "    }\n",
       "\n",
       "    .dataframe tbody tr th {\n",
       "        vertical-align: top;\n",
       "    }\n",
       "\n",
       "    .dataframe thead th {\n",
       "        text-align: right;\n",
       "    }\n",
       "</style>\n",
       "<table border=\"1\" class=\"dataframe\">\n",
       "  <thead>\n",
       "    <tr style=\"text-align: right;\">\n",
       "      <th></th>\n",
       "      <th>Handset Type</th>\n",
       "      <th>TCP_Retransmission</th>\n",
       "    </tr>\n",
       "  </thead>\n",
       "  <tbody>\n",
       "    <tr>\n",
       "      <th>0</th>\n",
       "      <td>A-Link Telecom I. Cubot A5</td>\n",
       "      <td>2.180247e+07</td>\n",
       "    </tr>\n",
       "    <tr>\n",
       "      <th>1</th>\n",
       "      <td>A-Link Telecom I. Cubot Note Plus</td>\n",
       "      <td>6.162130e+05</td>\n",
       "    </tr>\n",
       "    <tr>\n",
       "      <th>2</th>\n",
       "      <td>A-Link Telecom I. Cubot Note S</td>\n",
       "      <td>2.109784e+07</td>\n",
       "    </tr>\n",
       "    <tr>\n",
       "      <th>3</th>\n",
       "      <td>A-Link Telecom I. Cubot Nova</td>\n",
       "      <td>1.375752e+05</td>\n",
       "    </tr>\n",
       "    <tr>\n",
       "      <th>4</th>\n",
       "      <td>A-Link Telecom I. Cubot Power</td>\n",
       "      <td>9.534250e+03</td>\n",
       "    </tr>\n",
       "    <tr>\n",
       "      <th>...</th>\n",
       "      <td>...</td>\n",
       "      <td>...</td>\n",
       "    </tr>\n",
       "    <tr>\n",
       "      <th>1385</th>\n",
       "      <td>Zte Zte Blade C2 Smartphone Android By Sfr Sta...</td>\n",
       "      <td>1.128940e+07</td>\n",
       "    </tr>\n",
       "    <tr>\n",
       "      <th>1386</th>\n",
       "      <td>Zyxel Communicat. Lte7460</td>\n",
       "      <td>2.180247e+07</td>\n",
       "    </tr>\n",
       "    <tr>\n",
       "      <th>1387</th>\n",
       "      <td>Zyxel Communicat. Sbg3600</td>\n",
       "      <td>2.180247e+07</td>\n",
       "    </tr>\n",
       "    <tr>\n",
       "      <th>1388</th>\n",
       "      <td>Zyxel Communicat. Zyxel Wah7706</td>\n",
       "      <td>7.763425e+05</td>\n",
       "    </tr>\n",
       "    <tr>\n",
       "      <th>1389</th>\n",
       "      <td>undefined</td>\n",
       "      <td>1.620467e+07</td>\n",
       "    </tr>\n",
       "  </tbody>\n",
       "</table>\n",
       "<p>1390 rows × 2 columns</p>\n",
       "</div>"
      ],
      "text/plain": [
       "                                           Handset Type  TCP_Retransmission\n",
       "0                            A-Link Telecom I. Cubot A5        2.180247e+07\n",
       "1                     A-Link Telecom I. Cubot Note Plus        6.162130e+05\n",
       "2                        A-Link Telecom I. Cubot Note S        2.109784e+07\n",
       "3                          A-Link Telecom I. Cubot Nova        1.375752e+05\n",
       "4                         A-Link Telecom I. Cubot Power        9.534250e+03\n",
       "...                                                 ...                 ...\n",
       "1385  Zte Zte Blade C2 Smartphone Android By Sfr Sta...        1.128940e+07\n",
       "1386                          Zyxel Communicat. Lte7460        2.180247e+07\n",
       "1387                          Zyxel Communicat. Sbg3600        2.180247e+07\n",
       "1388                    Zyxel Communicat. Zyxel Wah7706        7.763425e+05\n",
       "1389                                          undefined        1.620467e+07\n",
       "\n",
       "[1390 rows x 2 columns]"
      ]
     },
     "execution_count": 13,
     "metadata": {},
     "output_type": "execute_result"
    }
   ],
   "source": [
    "# Average tcp retransmission per handset type\n",
    "analytics.avg_tcp_rtt_per_handset()"
   ]
  }
 ],
 "metadata": {
  "kernelspec": {
   "display_name": ".venv",
   "language": "python",
   "name": "python3"
  },
  "language_info": {
   "codemirror_mode": {
    "name": "ipython",
    "version": 3
   },
   "file_extension": ".py",
   "mimetype": "text/x-python",
   "name": "python",
   "nbconvert_exporter": "python",
   "pygments_lexer": "ipython3",
   "version": "3.12.3"
  }
 },
 "nbformat": 4,
 "nbformat_minor": 2
}
